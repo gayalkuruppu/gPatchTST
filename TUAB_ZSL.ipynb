{
 "cells": [
  {
   "cell_type": "code",
   "execution_count": 28,
   "id": "bc138573",
   "metadata": {
    "vscode": {
     "languageId": "plaintext"
    }
   },
   "outputs": [
    {
     "name": "stdout",
     "output_type": "stream",
     "text": [
      "/home/gayal/ssl-project/gpatchTST/saved_models/pretrain/tuhab_pretrain_tuab_fixed/TUH-83/2025-04-14_16-31-47/test_pretrain_repo_tuhab.yaml\n"
     ]
    }
   ],
   "source": [
    "import os\n",
    "import numpy as np\n",
    "import pandas as pd\n",
    "from configs import Config\n",
    "\n",
    "tuhab_meta_csv_path = '/home/gayal/ssl-project/gpatchTST/tuhab_patient_metadata_ds.csv'\n",
    "model_path = '/home/gayal/ssl-project/gpatchTST/saved_models/pretrain/tuhab_pretrain_tuab_fixed/TUH-83/2025-04-14_16-31-47'\n",
    "# get the yaml\n",
    "config_dilename = [file for file in os.listdir(model_path) if file.endswith('.yaml')].pop()\n",
    "checkpoint_files = [file for file in os.listdir(model_path) if file.endswith('.pth')]\n",
    "\n",
    "config_filepath = os.path.join(model_path, config_dilename)\n",
    "config = Config(config_file=config_filepath).get()\n",
    "\n",
    "checkpoint_paths = [os.path.join(model_path, path) for path in checkpoint_files]\n",
    "\n",
    "print(config_filepath)"
   ]
  },
  {
   "cell_type": "code",
   "execution_count": 29,
   "id": "590ea583-31be-4e97-bb7e-31a0e62436cd",
   "metadata": {},
   "outputs": [
    {
     "data": {
      "text/html": [
       "<div>\n",
       "<style scoped>\n",
       "    .dataframe tbody tr th:only-of-type {\n",
       "        vertical-align: middle;\n",
       "    }\n",
       "\n",
       "    .dataframe tbody tr th {\n",
       "        vertical-align: top;\n",
       "    }\n",
       "\n",
       "    .dataframe thead th {\n",
       "        text-align: right;\n",
       "    }\n",
       "</style>\n",
       "<table border=\"1\" class=\"dataframe\">\n",
       "  <thead>\n",
       "    <tr style=\"text-align: right;\">\n",
       "      <th></th>\n",
       "      <th>filename</th>\n",
       "      <th>patient_name</th>\n",
       "      <th>age</th>\n",
       "      <th>gender</th>\n",
       "      <th>split</th>\n",
       "      <th>label</th>\n",
       "    </tr>\n",
       "  </thead>\n",
       "  <tbody>\n",
       "    <tr>\n",
       "      <th>0</th>\n",
       "      <td>aaaaaaaq_s004_t000</td>\n",
       "      <td>aaaaaaaq</td>\n",
       "      <td>26</td>\n",
       "      <td>F</td>\n",
       "      <td>train</td>\n",
       "      <td>abnormal</td>\n",
       "    </tr>\n",
       "    <tr>\n",
       "      <th>1</th>\n",
       "      <td>aaaaaaaq_s005_t001</td>\n",
       "      <td>aaaaaaaq</td>\n",
       "      <td>27</td>\n",
       "      <td>F</td>\n",
       "      <td>train</td>\n",
       "      <td>abnormal</td>\n",
       "    </tr>\n",
       "    <tr>\n",
       "      <th>2</th>\n",
       "      <td>aaaaaaat_s002_t001</td>\n",
       "      <td>aaaaaaat</td>\n",
       "      <td>49</td>\n",
       "      <td>M</td>\n",
       "      <td>train</td>\n",
       "      <td>abnormal</td>\n",
       "    </tr>\n",
       "    <tr>\n",
       "      <th>3</th>\n",
       "      <td>aaaaaaav_s004_t000</td>\n",
       "      <td>aaaaaaav</td>\n",
       "      <td>35</td>\n",
       "      <td>F</td>\n",
       "      <td>train</td>\n",
       "      <td>normal</td>\n",
       "    </tr>\n",
       "    <tr>\n",
       "      <th>4</th>\n",
       "      <td>aaaaaabn_s005_t000</td>\n",
       "      <td>aaaaaabn</td>\n",
       "      <td>24</td>\n",
       "      <td>F</td>\n",
       "      <td>train</td>\n",
       "      <td>normal</td>\n",
       "    </tr>\n",
       "  </tbody>\n",
       "</table>\n",
       "</div>"
      ],
      "text/plain": [
       "             filename patient_name  age gender  split     label\n",
       "0  aaaaaaaq_s004_t000     aaaaaaaq   26      F  train  abnormal\n",
       "1  aaaaaaaq_s005_t001     aaaaaaaq   27      F  train  abnormal\n",
       "2  aaaaaaat_s002_t001     aaaaaaat   49      M  train  abnormal\n",
       "3  aaaaaaav_s004_t000     aaaaaaav   35      F  train    normal\n",
       "4  aaaaaabn_s005_t000     aaaaaabn   24      F  train    normal"
      ]
     },
     "execution_count": 29,
     "metadata": {},
     "output_type": "execute_result"
    }
   ],
   "source": [
    "data_config = config['data']\n",
    "model_config = config['model']\n",
    "\n",
    "metadata_df = pd.read_csv(tuhab_meta_csv_path)\n",
    "metadata_df.head()"
   ]
  },
  {
   "cell_type": "code",
   "execution_count": 30,
   "id": "1ac6efa5-ffb3-426c-adff-a8d83f3f7b2e",
   "metadata": {},
   "outputs": [
    {
     "name": "stdout",
     "output_type": "stream",
     "text": [
      "Using device: cuda\n"
     ]
    }
   ],
   "source": [
    "# loading model checkpoints\n",
    "from get_models import get_patchTST_model\n",
    "import torch\n",
    "\n",
    "device = torch.device(\"cuda\" if torch.cuda.is_available() else \"cpu\")\n",
    "print(f\"Using device: {device}\")\n",
    "\n",
    "def get_model_from_checkpoint(check_point_path, model_config, data_config, device):\n",
    "    num_patches = (max(model_config['seq_len'], model_config['patch_length']) - model_config['patch_length']) // model_config['stride'] + 1\n",
    "    train_num_mask_patches = int(model_config['mask_ratio']* num_patches)\n",
    "    print(f\"num_patches: {num_patches}, train_num_mask_patches: {train_num_mask_patches}\")\n",
    "    \n",
    "\n",
    "    \n",
    "    model = get_patchTST_model(num_variates=data_config['n_vars'],\n",
    "                                forecast_length=data_config['pred_len'],\n",
    "                                patch_len=model_config['patch_length'],\n",
    "                                stride=model_config['stride'],\n",
    "                                num_patch=num_patches,\n",
    "                                n_layers=model_config['num_layers'],\n",
    "                                d_model=model_config['d_model'],\n",
    "                                n_heads=model_config['num_heads'],\n",
    "                                shared_embedding=model_config['shared_embedding'],\n",
    "                                d_ff=model_config['d_ff'],\n",
    "                                norm=model_config['norm'],\n",
    "                                attn_dropout=model_config['attn_dropout'],\n",
    "                                dropout=model_config['dropout'],\n",
    "                                activation=model_config['activation'],\n",
    "                                res_attention=model_config['res_attention'],\n",
    "                                pe=model_config['pe'],\n",
    "                                learn_pe=model_config['learn_pe'],\n",
    "                                head_dropout=model_config['head_dropout'],\n",
    "                                head_type=model_config['head_type']\n",
    "                            ).to(device)\n",
    "    \n",
    "    model.load_state_dict(torch.load(check_point_path)['model_state_dict'])#, weights_only=True))\n",
    "    model.eval()\n",
    "    return model\n"
   ]
  },
  {
   "cell_type": "markdown",
   "id": "5cc6c9ae-0d6e-4e9e-bff9-39bbdd23dd7b",
   "metadata": {},
   "source": [
    "## ZSL"
   ]
  },
  {
   "cell_type": "code",
   "execution_count": 31,
   "id": "fab8ef9e-1306-46d7-ae3b-d5d00e5a1bcd",
   "metadata": {},
   "outputs": [
    {
     "name": "stdout",
     "output_type": "stream",
     "text": [
      "Found 2072 patients with 2569 files\n",
      "Loaded existing patient splits from /mnt/ssd_4tb_0/data/tuhab_preprocessed/tuh_patient_splits.pkl\n",
      "Split: train, Patients: 1450, Files: 1783\n",
      "Total Sequences: 126073\n",
      "Found 2072 patients with 2569 files\n",
      "Loaded existing patient splits from /mnt/ssd_4tb_0/data/tuhab_preprocessed/tuh_patient_splits.pkl\n",
      "Split: val, Patients: 207, Files: 258\n",
      "Total Sequences: 18398\n",
      "Found 2072 patients with 2569 files\n",
      "Loaded existing patient splits from /mnt/ssd_4tb_0/data/tuhab_preprocessed/tuh_patient_splits.pkl\n",
      "Split: test, Patients: 415, Files: 528\n",
      "Total Sequences: 36970\n"
     ]
    }
   ],
   "source": [
    "from data import TUAB_Dataset, get_tuab_dataloaders\n",
    "\n",
    "_, _, test_tuab_dataset = get_tuab_dataloaders(\n",
    "    root_path=data_config['root_path'],\n",
    "    data_path=data_config['data_path'],\n",
    "    csv_path=data_config['csv_path'],\n",
    "    metadata_csv_path='tuhab_patient_metadata_ds.csv',\n",
    "    batch_size=64,#data_config['batch_size'],\n",
    "    num_workers=data_config['num_workers'],\n",
    "    drop_last=False,\n",
    "    size=[model_config['seq_len'], \n",
    "          model_config['target_dim'],\n",
    "          model_config['patch_length']]\n",
    ")"
   ]
  },
  {
   "cell_type": "code",
   "execution_count": 32,
   "id": "83517480-9bde-4b32-9ddc-6d3b176415df",
   "metadata": {},
   "outputs": [
    {
     "data": {
      "text/plain": [
       "(36970, 578, 528)"
      ]
     },
     "execution_count": 32,
     "metadata": {},
     "output_type": "execute_result"
    }
   ],
   "source": [
    "# next(iter(test_tuab_dataset))\n",
    "len(test_tuab_dataset.dataset), len(test_tuab_dataset), len(test_tuab_dataset.dataset.selected_files)"
   ]
  },
  {
   "cell_type": "code",
   "execution_count": 33,
   "id": "ab2310b0-6d17-4184-b6b4-06329e2bee6f",
   "metadata": {},
   "outputs": [],
   "source": [
    "val_mask_type = 'random'\n",
    "\n",
    "mask_ratio = 0.3# model_config['mask_ratio']\n",
    "masked_value = model_config['masked_value']\n",
    "stride = model_config['stride']\n",
    "independent_channel_masking = model_config['independent_channel_masking']\n",
    "patch_len = model_config['patch_length']\n",
    "forecasting_num_patches = model_config['forecasting_num_patches']\n",
    "fixed_position = None"
   ]
  },
  {
   "cell_type": "code",
   "execution_count": 34,
   "id": "fc78ed66-2ec0-4d78-84ff-0c883ba380ab",
   "metadata": {},
   "outputs": [],
   "source": [
    "import torch\n",
    "from sklearn.manifold import TSNE\n",
    "from umap import UMAP\n",
    "import matplotlib.pyplot as plt\n",
    "import numpy as np\n",
    "from tqdm import tqdm\n",
    "\n",
    "from pretrain import (create_patches, \n",
    "apply_mask, plot_sample_reconstruction, \n",
    "create_mask, apply_inv_mask)\n",
    "\n",
    "torch.set_grad_enabled(False)\n",
    "\n",
    "def get_embeddings_for_model(test_tuab_dataset, model, patch_len, stride):\n",
    "    all_embeddings = []\n",
    "    all_labels = []\n",
    "    all_ages = []\n",
    "    all_genders = []\n",
    "    all_filenames = []\n",
    "    all_patient_names = []\n",
    "    \n",
    "    # test_tuab_step_pbar = tqdm(test_tuab_dataset, desc=\"Extracting data\", total=len(test_tuab_dataset), leave=False)\n",
    "    test_tuab_step_pbar = tqdm(test_tuab_dataset, desc=\"Extracting data\", total=8, leave=False)\n",
    "    \n",
    "    for batch in test_tuab_step_pbar:\n",
    "        data = batch['past_values'].to(device)  # [batch_size, seq_len, channels]\n",
    "        labels = batch['label']  # [batch_size]\n",
    "        ages = batch['age']      # [batch_size]\n",
    "        genders = batch['gender'] # [batch_size]\n",
    "        filenames = batch['filename']\n",
    "        patient_names = batch['patient_name']\n",
    "        \n",
    "        input_patches, _ = create_patches(data, patch_len, stride)\n",
    "        \n",
    "        with torch.no_grad():\n",
    "            embeddings = model.backbone(input_patches)\n",
    "        \n",
    "        embeddings_cpu = embeddings.detach().cpu().numpy()\n",
    "        \n",
    "        # Store all data\n",
    "        all_embeddings.extend(embeddings_cpu)\n",
    "        all_labels.extend([1 if label == 'abnormal' else 0 for label in labels])\n",
    "        all_ages.extend(ages)\n",
    "        all_genders.extend(genders)\n",
    "        all_filenames.extend(filenames)\n",
    "        all_patient_names.extend(patient_names)\n",
    "\n",
    "    data_dict = {\n",
    "        'embeddings': np.array(all_embeddings),\n",
    "        'labels': np.array(all_labels),\n",
    "        'age': np.array(all_ages),\n",
    "        'gender': np.array(all_genders),\n",
    "        'filenames': np.array(all_filenames),\n",
    "        'patient_names': np.array(all_patient_names)\n",
    "    }\n",
    "\n",
    "    return data_dict"
   ]
  },
  {
   "cell_type": "code",
   "execution_count": null,
   "id": "ab65e098-2367-4c43-9d76-05e82a423ee5",
   "metadata": {},
   "outputs": [],
   "source": []
  },
  {
   "cell_type": "code",
   "execution_count": null,
   "id": "845082fb-d64d-4311-9ecd-95b7f15452ea",
   "metadata": {},
   "outputs": [],
   "source": []
  },
  {
   "cell_type": "code",
   "execution_count": null,
   "id": "a48ca249-a8d5-4070-b48c-d987c357f9df",
   "metadata": {},
   "outputs": [],
   "source": [
    "# check_point_path = checkpoint_paths[0]\n",
    "def get_epoch_number(check_point_path):\n",
    "    epoch = os.path.basename(check_point_path).split('.pth')[0].split('_')[-1]\n",
    "    if int(epoch):\n",
    "        return int(epoch)\n",
    "    else:\n",
    "        raise \"wrong checkpoint format\"\n",
    "\n",
    "def plot_tsne_and_umap(all_embeddings, all_labels, epoch):\n",
    "    all_embeddings = np.array(all_embeddings)\n",
    "    all_embeddings = all_embeddings[:, 9, :, :]\n",
    "    all_embeddings_avg = all_embeddings.mean(axis=(2))\n",
    "    # all_embeddings_avg = all_embeddings.mean(axis=(1, 3))\n",
    "    all_labels = np.array(all_labels)\n",
    "    \n",
    "    # # t-SNE visualization\n",
    "    # tsne = TSNE(n_components=2, random_state=42)\n",
    "    # tsne_result = tsne.fit_transform(all_embeddings_avg)\n",
    "    \n",
    "    # plt.figure(figsize=(12, 8))\n",
    "    # scatter = plt.scatter(tsne_result[:, 0], tsne_result[:, 1], c=all_labels, cmap='viridis', alpha=0.7)\n",
    "    # # plt.colorbar(scatter, label='Label (0=Normal, 1=Abnormal)')\n",
    "    # plt.legend()\n",
    "    # plt.title(f't-SNE Visualization of Normal vs Abnormal Embeddings - Epoch {epoch}')\n",
    "    # plt.tight_layout()\n",
    "    # plt.savefig(f'tsne_visualization_{epoch}.png')\n",
    "    # # plt.show()\n",
    "    \n",
    "    # # UMAP visualization\n",
    "    # umap_model = UMAP(n_components=2, random_state=42)\n",
    "    # umap_result = umap_model.fit_transform(all_embeddings_avg)\n",
    "    \n",
    "    # plt.figure(figsize=(12, 8))\n",
    "    # scatter = plt.scatter(umap_result[:, 0], umap_result[:, 1], c=all_labels, cmap='viridis', alpha=0.7)\n",
    "    # # plt.colorbar(scatter, label='Label (0=Normal, 1=Abnormal)')\n",
    "    # plt.legend()\n",
    "    # plt.title(f'UMAP Visualization of Normal vs Abnormal Embeddings - Epoch {epoch}')\n",
    "    # plt.tight_layout()\n",
    "    # plt.savefig(f'umap_visualization_{epoch}.png')\n",
    "    # # plt.show()\n",
    "\n",
    "    tsne = TSNE(n_components=2, random_state=42)\n",
    "    tsne_result = tsne.fit_transform(all_embeddings_avg)\n",
    "    \n",
    "    plt.figure(figsize=(12, 8))\n",
    "    scatter = plt.scatter(tsne_result[:, 0], tsne_result[:, 1], c=all_labels, cmap='viridis', alpha=0.7)\n",
    "    \n",
    "    # Add legend for labels\n",
    "    label_mapping = {0: \"Normal\", 1: \"Abnormal\"}\n",
    "    handles = [plt.Line2D([0], [0], marker='o', color='w', markerfacecolor=plt.cm.viridis(i / 1), markersize=10, label=label_mapping[i]) for i in label_mapping]\n",
    "    plt.legend(handles=handles, title=\"Labels\")\n",
    "    \n",
    "    plt.title(f't-SNE Visualization of Normal vs Abnormal Embeddings - Epoch {epoch}')\n",
    "    plt.tight_layout()\n",
    "    plt.savefig(f'tsne_visualization_{epoch}.png')\n",
    "    # plt.show()\n",
    "    \n",
    "    # UMAP visualization\n",
    "    umap_model = UMAP(n_components=2, random_state=42)\n",
    "    umap_result = umap_model.fit_transform(all_embeddings_avg)\n",
    "    \n",
    "    plt.figure(figsize=(12, 8))\n",
    "    scatter = plt.scatter(umap_result[:, 0], umap_result[:, 1], c=all_labels, cmap='viridis', alpha=0.7)\n",
    "    \n",
    "    # Add legend for labels\n",
    "    plt.legend(handles=handles, title=\"Labels\")\n",
    "    \n",
    "    plt.title(f'UMAP Visualization of Normal vs Abnormal Embeddings - Epoch {epoch}')\n",
    "    plt.tight_layout()\n",
    "    plt.savefig(f'umap_visualization_{epoch}.png')\n",
    "    # plt.show()"
   ]
  },
  {
   "cell_type": "code",
   "execution_count": 41,
   "id": "1c3d82b8",
   "metadata": {},
   "outputs": [],
   "source": [
    "def save_embeddings_data(embeddings_dict, epoch, output_dir='saved_embeddings'):\n",
    "    # Create output directory if it doesn't exist\n",
    "    if not os.path.exists(output_dir):\n",
    "        os.makedirs(output_dir)\n",
    "        print(f\"Created directory: {output_dir}\")\n",
    "    \n",
    "    dict_filename = os.path.join(output_dir, f\"embeddings_data_epoch_{epoch}.npy\")\n",
    "    np.save(dict_filename, embeddings_dict)\n",
    "\n",
    "    \n",
    "    print(f\"Saved embeddings data for epoch {epoch} to {output_dir}\")"
   ]
  },
  {
   "cell_type": "code",
   "execution_count": null,
   "id": "f1966e57-7185-44b6-af40-454b3c38a7db",
   "metadata": {},
   "outputs": [
    {
     "name": "stdout",
     "output_type": "stream",
     "text": [
      "Processing checkpoint: /home/gayal/ssl-project/gpatchTST/saved_models/pretrain/tuhab_pretrain_tuab_fixed/TUH-83/2025-04-14_16-31-47/checkpoint_epoch_35.pth for epoch 35\n",
      "num_patches: 10, train_num_mask_patches: 3\n"
     ]
    },
    {
     "name": "stderr",
     "output_type": "stream",
     "text": [
      "                                                                                                                                                                                                "
     ]
    },
    {
     "name": "stdout",
     "output_type": "stream",
     "text": [
      "Saved embeddings data for epoch 35 to tuab_pretrained_embeddings\n"
     ]
    },
    {
     "ename": "KeyboardInterrupt",
     "evalue": "",
     "output_type": "error",
     "traceback": [
      "\u001b[0;31m---------------------------------------------------------------------------\u001b[0m",
      "\u001b[0;31mKeyboardInterrupt\u001b[0m                         Traceback (most recent call last)",
      "Cell \u001b[0;32mIn[42], line 14\u001b[0m\n\u001b[1;32m     12\u001b[0m embeddings_dict \u001b[38;5;241m=\u001b[39m get_embeddings_for_model(test_tuab_dataset, model, patch_len, stride)\n\u001b[1;32m     13\u001b[0m save_embeddings_data(embeddings_dict, epoch, \u001b[38;5;124m'\u001b[39m\u001b[38;5;124mtuab_pretrained_embeddings\u001b[39m\u001b[38;5;124m'\u001b[39m)\n\u001b[0;32m---> 14\u001b[0m \u001b[43mplot_tsne_and_umap\u001b[49m\u001b[43m(\u001b[49m\u001b[43membeddings_dict\u001b[49m\u001b[43m[\u001b[49m\u001b[38;5;124;43m'\u001b[39;49m\u001b[38;5;124;43membeddings\u001b[39;49m\u001b[38;5;124;43m'\u001b[39;49m\u001b[43m]\u001b[49m\u001b[43m,\u001b[49m\u001b[43m \u001b[49m\u001b[43membeddings_dict\u001b[49m\u001b[43m[\u001b[49m\u001b[38;5;124;43m'\u001b[39;49m\u001b[38;5;124;43mlabels\u001b[39;49m\u001b[38;5;124;43m'\u001b[39;49m\u001b[43m]\u001b[49m\u001b[43m,\u001b[49m\u001b[43m \u001b[49m\u001b[43mepoch\u001b[49m\u001b[43m)\u001b[49m\n\u001b[1;32m     15\u001b[0m \u001b[38;5;66;03m# plot_tsne_and_umap(all_embeddings, all_labels, epoch)\u001b[39;00m\n",
      "Cell \u001b[0;32mIn[40], line 10\u001b[0m, in \u001b[0;36mplot_tsne_and_umap\u001b[0;34m(all_embeddings, all_labels, epoch)\u001b[0m\n\u001b[1;32m      9\u001b[0m \u001b[38;5;28;01mdef\u001b[39;00m\u001b[38;5;250m \u001b[39m\u001b[38;5;21mplot_tsne_and_umap\u001b[39m(all_embeddings, all_labels, epoch):\n\u001b[0;32m---> 10\u001b[0m     all_embeddings \u001b[38;5;241m=\u001b[39m \u001b[43mnp\u001b[49m\u001b[38;5;241;43m.\u001b[39;49m\u001b[43marray\u001b[49m\u001b[43m(\u001b[49m\u001b[43mall_embeddings\u001b[49m\u001b[43m)\u001b[49m\n\u001b[1;32m     11\u001b[0m     all_embeddings \u001b[38;5;241m=\u001b[39m all_embeddings[:, \u001b[38;5;241m9\u001b[39m, :, :]\n\u001b[1;32m     12\u001b[0m     all_embeddings_avg \u001b[38;5;241m=\u001b[39m all_embeddings\u001b[38;5;241m.\u001b[39mmean(axis\u001b[38;5;241m=\u001b[39m(\u001b[38;5;241m2\u001b[39m))[:\u001b[38;5;241m500\u001b[39m]\n",
      "\u001b[0;31mKeyboardInterrupt\u001b[0m: "
     ]
    }
   ],
   "source": [
    "# check_point_path, os.path.basename(check_point_path).split('.pth')[0].split('_')[-1]\n",
    "\n",
    "for check_point_path in checkpoint_paths:\n",
    "    try:\n",
    "        epoch = get_epoch_number(check_point_path)\n",
    "    except:\n",
    "        print(f\"Skipping checkpoint {check_point_path}.\")\n",
    "        continue\n",
    "    print(f\"Processing checkpoint: {check_point_path} for epoch {epoch}\")\n",
    "    model = get_model_from_checkpoint(check_point_path, model_config, data_config, device)\n",
    "    epoch = get_epoch_number(check_point_path)\n",
    "    embeddings_dict = get_embeddings_for_model(test_tuab_dataset, model, patch_len, stride)\n",
    "    # save_embeddings_data(embeddings_dict, epoch, 'tuab_pretrained_embeddings')\n",
    "    plot_tsne_and_umap(embeddings_dict['embeddings'], embeddings_dict['labels'], epoch)\n",
    "    # plot_tsne_and_umap(all_embeddings, all_labels, epoch)"
   ]
  },
  {
   "cell_type": "markdown",
   "id": "bfb2d3b2-6f05-4a6c-98df-db3994624c6f",
   "metadata": {},
   "source": [
    "## Recording level analysis"
   ]
  },
  {
   "cell_type": "code",
   "execution_count": 43,
   "id": "85407972-0a82-489a-b463-01e5679f33b5",
   "metadata": {},
   "outputs": [],
   "source": [
    "def load_embeddings_data(epoch, embds_path='tuab_pretrained_embeddings'):\n",
    "    dict_filename = os.path.join(embds_path, f\"embeddings_data_epoch_{epoch}.npy\")\n",
    "    embeddings_dict = np.load(dict_filename, allow_pickle=True).item()\n",
    "    print(embeddings_dict.keys())\n",
    "\n",
    "    embeddings = embeddings_dict['embeddings']\n",
    "    labels = embeddings_dict['labels']\n",
    "    ages = embeddings_dict['age']\n",
    "    genders = embeddings_dict['gender']\n",
    "    filenames = embeddings_dict['filenames']\n",
    "    patient_names = embeddings_dict['patient_names']\n",
    "    \n",
    "    return embeddings, labels, ages, genders, filenames, patient_names"
   ]
  },
  {
   "cell_type": "code",
   "execution_count": 44,
   "id": "888c8554-729b-4f07-94ca-d659f5cc7fcc",
   "metadata": {},
   "outputs": [
    {
     "name": "stdout",
     "output_type": "stream",
     "text": [
      "dict_keys(['embeddings', 'labels', 'age', 'gender', 'filenames', 'patient_names'])\n"
     ]
    }
   ],
   "source": [
    "embeddings, labels, ages, genders, filenames, patient_names = load_embeddings_data(5)"
   ]
  },
  {
   "cell_type": "code",
   "execution_count": null,
   "id": "10ecc432-93be-4816-be4d-4bd496f62220",
   "metadata": {},
   "outputs": [],
   "source": []
  },
  {
   "cell_type": "code",
   "execution_count": null,
   "id": "50fbab81-9867-40eb-9de7-ad4c6f36b646",
   "metadata": {},
   "outputs": [],
   "source": []
  },
  {
   "cell_type": "code",
   "execution_count": 27,
   "id": "6a982970-2820-4c88-b9d3-8c75ddcd067b",
   "metadata": {},
   "outputs": [
    {
     "data": {
      "text/plain": [
       "(36970, 415, 528)"
      ]
     },
     "execution_count": 27,
     "metadata": {},
     "output_type": "execute_result"
    }
   ],
   "source": [
    "len(patient_names), len(np.unique(patient_names)), len(np.unique(filenames))"
   ]
  },
  {
   "cell_type": "code",
   "execution_count": 64,
   "id": "993c42d8-742e-4f96-b8a4-406535e0945d",
   "metadata": {},
   "outputs": [],
   "source": [
    "# # get embeddings for filenames and average that\n",
    "# unique_filenames = np.unique(filenames)\n",
    "# filename_to_embeddings = {}\n",
    "# for filename in unique_filenames:\n",
    "#     indices = np.where(filenames == filename)[0]\n",
    "#     filename_to_embeddings[filename] = embeddings[indices].mean(axis=)\n",
    "# filename_to_labels = {}\n",
    "# for filename in unique_filenames:\n",
    "#     indices = np.where(filenames == filename)[0]\n",
    "#     filename_to_labels[filename] = labels[indices].mean(axis=0)\n",
    "\n",
    "\n",
    "# get embeddings for filenames and average that\n",
    "unique_filenames = np.unique(filenames)[:50]\n",
    "filename_to_embeddings = {}\n",
    "for filename in unique_filenames:\n",
    "    indices = np.where(filenames == filename)[0]\n",
    "    filename_to_embeddings[filename] = embeddings[indices].mean(axis=0)\n",
    "filename_to_labels = {}\n",
    "for filename in unique_filenames:\n",
    "    indices = np.where(filenames == filename)[0]\n",
    "    filename_to_labels[filename] = labels[indices].mean(axis=0)"
   ]
  },
  {
   "cell_type": "code",
   "execution_count": null,
   "id": "ebce9a73-e74d-40b2-8c1e-3700d40e2578",
   "metadata": {},
   "outputs": [],
   "source": []
  },
  {
   "cell_type": "code",
   "execution_count": 65,
   "id": "95a1a2ae-f7cb-4f24-add3-9eef10b25a25",
   "metadata": {},
   "outputs": [
    {
     "name": "stderr",
     "output_type": "stream",
     "text": [
      "/home/gayal/ssl-project/PatchTST/patch_venv/lib/python3.8/site-packages/umap/umap_.py:1952: UserWarning: n_jobs value 1 overridden to 1 by setting random_state. Use no seed for parallelism.\n",
      "  warn(\n"
     ]
    },
    {
     "data": {
      "image/png": "[encoded data removed]",
      "text/plain": [
       "<Figure size 1200x800 with 1 Axes>"
      ]
     },
     "metadata": {},
     "output_type": "display_data"
    },
    {
     "data": {
      "image/png": "[encoded data removed]",
      "text/plain": [
       "<Figure size 1200x800 with 1 Axes>"
      ]
     },
     "metadata": {},
     "output_type": "display_data"
    }
   ],
   "source": [
    "plot_tsne_and_umap(list(filename_to_embeddings.values()), list(filename_to_labels.values()), epoch)"
   ]
  },
  {
   "cell_type": "code",
   "execution_count": 60,
   "id": "d561f0b7-1bfc-477b-b7db-795eaa15ad0c",
   "metadata": {},
   "outputs": [
    {
     "data": {
      "text/plain": [
       "10"
      ]
     },
     "execution_count": 60,
     "metadata": {},
     "output_type": "execute_result"
    }
   ],
   "source": [
    "len(list(filename_to_embeddings.values()))"
   ]
  },
  {
   "cell_type": "code",
   "execution_count": null,
   "id": "dec365bf-66a9-4547-bf86-b25f43010639",
   "metadata": {},
   "outputs": [],
   "source": [
    "# class token\n",
    "# linresr probing\n",
    "# evaluating embeddinfgs in transfoemers\n",
    "# recobnstruction in other transformers"
   ]
  }
 ],
 "metadata": {
  "kernelspec": {
   "display_name": "Python 3 (ipykernel)",
   "language": "python",
   "name": "python3"
  },
  "language_info": {
   "codemirror_mode": {
    "name": "ipython",
    "version": 3
   },
   "file_extension": ".py",
   "mimetype": "text/x-python",
   "name": "python",
   "nbconvert_exporter": "python",
   "pygments_lexer": "ipython3",
   "version": "3.8.5"
  }
 },
 "nbformat": 4,
 "nbformat_minor": 5
}
