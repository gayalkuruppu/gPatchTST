{
 "cells": [
  {
   "cell_type": "code",
   "execution_count": null,
   "id": "ceb1a6ac-77f4-41b0-8382-0bbb01552be4",
   "metadata": {},
   "outputs": [],
   "source": [
    "import numpy as np\n",
    "import pandas as pd"
   ]
  },
  {
   "cell_type": "markdown",
   "id": "0d78cc84-0b2a-4202-bfb2-3c556e40eb17",
   "metadata": {},
   "source": [
    "#### dummy data"
   ]
  },
  {
   "cell_type": "code",
   "execution_count": null,
   "id": "4a148337-e6c2-40a0-abde-8708b8445fac",
   "metadata": {},
   "outputs": [],
   "source": []
  },
  {
   "cell_type": "markdown",
   "id": "b18fc222-a96e-4d91-a7f6-286cd8bc61a7",
   "metadata": {},
   "source": [
    "### create X, y, groups (by subject id)"
   ]
  },
  {
   "cell_type": "code",
   "execution_count": null,
   "id": "c20b46a6-d349-456a-b2c4-7a7be9ce9e04",
   "metadata": {},
   "outputs": [],
   "source": [
    "from sklearn.preprocessing import LabelEncoder\n",
    "\n",
    "def get_X_y_groups(X_fname, df_fname, y_column_name, group_column_name):\n",
    "\n",
    "    '''\n",
    "    read X (pretrained model embeddings)\n",
    "    '''\n",
    "    X = np.load(X_fname)\n",
    "\n",
    "    '''\n",
    "    read metadata sheet\n",
    "    '''\n",
    "    df = pd.read_csv(df_fname)\n",
    "    y = df[y_column_name].values\n",
    "    \n",
    "    '''\n",
    "    compile X, y, subject_groups\n",
    "    '''\n",
    "    groups_encoder = LabelEncoder().fit(df[group_column_name].tolist())\n",
    "    subject_groups = df.apply(lambda row: groups_encoder.transform([row[group_column_name]]), axis=1)\n",
    "    \n",
    "    assert len(X) == len(y) == len(subject_groups)\n",
    "\n",
    "    return X, y, subject_groups"
   ]
  },
  {
   "cell_type": "markdown",
   "id": "a11329f5-e0ce-40c2-913c-ef41f4af2024",
   "metadata": {},
   "source": [
    "### for a given probe_type/feature_type and model_patch_size, train new linear probes for all available model checkpoints "
   ]
  },
  {
   "cell_type": "code",
   "execution_count": null,
   "id": "a2189dbb-1fcb-4bdd-b34d-c04129738fb5",
   "metadata": {},
   "outputs": [],
   "source": [
    "from utils.pipeline import regression_pipeline_runner\n",
    "\n",
    "'''\n",
    "all common/global config across all linear probes\n",
    "'''\n",
    "\n",
    "feature_type = \"delta_pib\"\n",
    "model_patch_size = \"1sec\"\n",
    "\n",
    "model_type = \"LinReg\"\n",
    "cv_type = \"Simple_KFold\"\n",
    "cv_params = {\n",
    "     'cv_folds': {\"outer\": 10},\n",
    "     'n_jobs': {\"outer\": 1, \"model_fit\": 1},\n",
    "     'random_state': 2509843\n",
    "}\n",
    "\n",
    "model_checkpoints = [\"epoch10\"]"
   ]
  },
  {
   "cell_type": "markdown",
   "id": "4d34eeb4-2464-4826-ab4b-9b53fc96e0cd",
   "metadata": {},
   "source": [
    "### serial execution"
   ]
  },
  {
   "cell_type": "code",
   "execution_count": null,
   "id": "4029042c-9ce7-4be9-9fac-8bc40ddc0ad5",
   "metadata": {},
   "outputs": [],
   "source": [
    "all_probes = {}\n",
    "\n",
    "for checkpoint in model_checkpoints:\n",
    "\n",
    "    X, y, groups = get_X_y_groups(\n",
    "        X_fname=f\"{model_patch_size}_{checkpoint}.npy\",\n",
    "        df_fname=\"metadata.csv\",\n",
    "        y_column_name=feature_type,\n",
    "        group_column_name=\"subject_id\",\n",
    "    )\n",
    "    results = regression_pipeline_runner(X, y, groups, model_type, cv_type, cv_params)\n",
    "    all_probes[checkpoint] = results[model_type]\n"
   ]
  },
  {
   "cell_type": "markdown",
   "id": "091edba3-f5e0-4a36-a051-2c803d8d4713",
   "metadata": {},
   "source": [
    "### TODO: parallel execution"
   ]
  },
  {
   "cell_type": "code",
   "execution_count": 1,
   "id": "554e15a5-2569-44de-958d-5805c8373dca",
   "metadata": {},
   "outputs": [],
   "source": [
    "# ...................."
   ]
  },
  {
   "cell_type": "code",
   "execution_count": null,
   "id": "1cc666d8-9545-41da-b40d-e67dc24579cb",
   "metadata": {},
   "outputs": [],
   "source": [
    "import pickle\n",
    "\n",
    "date = \"5_12_25\"\n",
    "\n",
    "with open(f\"{model_patch_size}_{feature_type}_probes_for_all_checkpoints_{date}.pkl\", 'wb') as f:\n",
    "    pickle.dump(all_probes, f)"
   ]
  },
  {
   "cell_type": "markdown",
   "id": "9b393818-4ce1-49da-8ccb-1842639e3eef",
   "metadata": {},
   "source": [
    "### plot test score (y-axis) for all model checkpoints (x-axis)"
   ]
  },
  {
   "cell_type": "code",
   "execution_count": null,
   "id": "8b981978-8f86-4dff-a39b-9900cb9f16d1",
   "metadata": {},
   "outputs": [],
   "source": []
  }
 ],
 "metadata": {
  "kernelspec": {
   "display_name": "Python 3 (ipykernel)",
   "language": "python",
   "name": "python3"
  },
  "language_info": {
   "codemirror_mode": {
    "name": "ipython",
    "version": 3
   },
   "file_extension": ".py",
   "mimetype": "text/x-python",
   "name": "python",
   "nbconvert_exporter": "python",
   "pygments_lexer": "ipython3",
   "version": "3.9.18"
  }
 },
 "nbformat": 4,
 "nbformat_minor": 5
}
