{
 "cells": [
  {
   "cell_type": "code",
   "execution_count": 7,
   "id": "ceb1a6ac-77f4-41b0-8382-0bbb01552be4",
   "metadata": {},
   "outputs": [
    {
     "name": "stdout",
     "output_type": "stream",
     "text": [
      "numpy: 2.0.2\n",
      "pandas: 2.2.3\n",
      "sklearn: 1.6.1\n"
     ]
    }
   ],
   "source": [
    "import numpy as np; print(\"numpy:\", np.__version__)\n",
    "import pandas as pd; print(\"pandas:\", pd.__version__)\n",
    "import sklearn; print(\"sklearn:\", sklearn.__version__)"
   ]
  },
  {
   "cell_type": "code",
   "execution_count": 2,
   "id": "cf00daa9-dbbc-484c-aa06-621ac4d3f13f",
   "metadata": {},
   "outputs": [],
   "source": [
    "import time\n",
    "start_time = time.perf_counter()"
   ]
  },
  {
   "cell_type": "markdown",
   "id": "0d78cc84-0b2a-4202-bfb2-3c556e40eb17",
   "metadata": {},
   "source": [
    "#### dummy data"
   ]
  },
  {
   "cell_type": "code",
   "execution_count": 3,
   "id": "4a148337-e6c2-40a0-abde-8708b8445fac",
   "metadata": {},
   "outputs": [],
   "source": [
    "from sklearn.datasets import make_regression\n",
    "import random\n",
    "import string\n",
    "\n",
    "# X, y = make_regression(n_samples=10000, n_features=128, noise=10.0, n_informative=10, n_targets=1, random_state=42)\n",
    "# groups = np.array([''.join(random.choices(string.ascii_letters + string.digits, k=10)) for _ in range(len(y))])\n",
    "# print(X.shape, y.shape, groups.shape)"
   ]
  },
  {
   "cell_type": "markdown",
   "id": "b18fc222-a96e-4d91-a7f6-286cd8bc61a7",
   "metadata": {},
   "source": [
    "### create X, y, groups (by subject id)"
   ]
  },
  {
   "cell_type": "code",
   "execution_count": 4,
   "id": "c20b46a6-d349-456a-b2c4-7a7be9ce9e04",
   "metadata": {},
   "outputs": [],
   "source": [
    "from sklearn.preprocessing import LabelEncoder\n",
    "\n",
    "def get_X_y_groups(X_fname, df_fname, y_column_name, group_column_name):\n",
    "\n",
    "    '''\n",
    "    read X (pretrained model embeddings)\n",
    "    '''\n",
    "    X = np.load(X_fname)\n",
    "\n",
    "    '''\n",
    "    read metadata sheet\n",
    "    '''\n",
    "    df = pd.read_csv(df_fname)\n",
    "    y = df[y_column_name].values\n",
    "    \n",
    "    '''\n",
    "    compile X, y, subject_groups\n",
    "    '''\n",
    "    groups_encoder = LabelEncoder().fit(df[group_column_name].tolist())\n",
    "    subject_groups = df.apply(lambda row: groups_encoder.transform([row[group_column_name]]), axis=1)\n",
    "    \n",
    "    assert len(X) == len(y) == len(subject_groups)\n",
    "\n",
    "    return X, y, subject_groups"
   ]
  },
  {
   "cell_type": "code",
   "execution_count": 6,
   "id": "9ffa2fa1-e611-46cb-97e0-992fa0f7732e",
   "metadata": {},
   "outputs": [
    {
     "data": {
      "text/plain": [
       "'1.6.1'"
      ]
     },
     "execution_count": 6,
     "metadata": {},
     "output_type": "execute_result"
    }
   ],
   "source": [
    "import sklearn\n",
    "sklearn.__version__"
   ]
  },
  {
   "cell_type": "markdown",
   "id": "a11329f5-e0ce-40c2-913c-ef41f4af2024",
   "metadata": {},
   "source": [
    "### for a given probe_type/feature_type and model_patch_size, train new linear probes for all available model checkpoints "
   ]
  },
  {
   "cell_type": "code",
   "execution_count": null,
   "id": "a2189dbb-1fcb-4bdd-b34d-c04129738fb5",
   "metadata": {},
   "outputs": [],
   "source": [
    "from utils.pipeline import regression_pipeline_runner\n",
    "\n",
    "'''\n",
    "all common/global config across all linear probes\n",
    "'''\n",
    "\n",
    "feature_type = \"delta_pib\"\n",
    "model_patch_size = \"1sec\"\n",
    "\n",
    "model_type = \"LinReg_L2\"\n",
    "cv_type = \"Simple_KFold\"\n",
    "cv_params = {\n",
    "     'cv_folds': {\"outer\": 10},\n",
    "     'n_jobs': {\"outer\": 1},\n",
    "     'random_state': 2509843\n",
    "}\n",
    "\n",
    "model_checkpoints = [f\"epoch_{x}\" for x in range(10, 110, 10)]\n",
    "model_checkpoints"
   ]
  },
  {
   "cell_type": "markdown",
   "id": "4d34eeb4-2464-4826-ab4b-9b53fc96e0cd",
   "metadata": {},
   "source": [
    "### serial execution"
   ]
  },
  {
   "cell_type": "code",
   "execution_count": null,
   "id": "4029042c-9ce7-4be9-9fac-8bc40ddc0ad5",
   "metadata": {
    "scrolled": true
   },
   "outputs": [],
   "source": [
    "from collections import OrderedDict\n",
    "all_probes = OrderedDict()\n",
    "\n",
    "for checkpoint in model_checkpoints:\n",
    "\n",
    "    # X, y, groups = get_X_y_groups(\n",
    "    #     X_fname=f\"{model_patch_size}_{checkpoint}.npy\",\n",
    "    #     df_fname=\"metadata.csv\",\n",
    "    #     y_column_name=feature_type,\n",
    "    #     group_column_name=\"subject_id\",\n",
    "    # )\n",
    "    \n",
    "    X, y = make_regression(n_samples=10000, n_features=128, noise=10.0, n_informative=10, n_targets=1)\n",
    "    groups = np.array([''.join(random.choices(string.ascii_letters + string.digits, k=10)) for _ in range(len(y))])\n",
    "    \n",
    "    results = regression_pipeline_runner(X, y, groups, model_type, cv_type, cv_params)\n",
    "    all_probes[checkpoint] = results[model_type]\n"
   ]
  },
  {
   "cell_type": "markdown",
   "id": "091edba3-f5e0-4a36-a051-2c803d8d4713",
   "metadata": {},
   "source": [
    "### FIXME: TODO: parallel execution"
   ]
  },
  {
   "cell_type": "code",
   "execution_count": null,
   "id": "554e15a5-2569-44de-958d-5805c8373dca",
   "metadata": {},
   "outputs": [],
   "source": [
    "# ...................."
   ]
  },
  {
   "cell_type": "code",
   "execution_count": null,
   "id": "1cc666d8-9545-41da-b40d-e67dc24579cb",
   "metadata": {},
   "outputs": [],
   "source": [
    "import pickle\n",
    "\n",
    "date = \"5_13_25\"\n",
    "# with open(f\"{model_patch_size}_{feature_type}_probes_for_all_checkpoints_{date}.pkl\", 'wb') as f:\n",
    "#     pickle.dump(all_probes, f)"
   ]
  },
  {
   "cell_type": "markdown",
   "id": "9b393818-4ce1-49da-8ccb-1842639e3eef",
   "metadata": {},
   "source": [
    "### plot heldout test probe scores (y-axis) w/ stderr (from kfoldcv) for all model checkpoints (x-axis)"
   ]
  },
  {
   "cell_type": "code",
   "execution_count": null,
   "id": "8b981978-8f86-4dff-a39b-9900cb9f16d1",
   "metadata": {},
   "outputs": [],
   "source": [
    "import matplotlib.pyplot as plt\n",
    "import seaborn as sns; sns.set()\n",
    "sns.set_style(\"whitegrid\")\n",
    "\n",
    "plt.rcParams[\"figure.figsize\"] = (12, 6)\n",
    "plt.rcParams['xtick.labelsize'] = 14\n",
    "plt.rcParams['ytick.labelsize'] = 14\n",
    "plt.rcParams['legend.fontsize'] = 11\n",
    "plt.rcParams['font.size'] = 14\n",
    "\n",
    "fig, ax = plt.subplots()\n",
    "\n",
    "_df_rows = []\n",
    "for key, item in all_probes.items():\n",
    "    # # print(key, item.keys())\n",
    "    all_mse = item[\"model_metrics_across_folds\"][\"sequence_level\"][\"mean_squared_errors\"]\n",
    "    all_mae = item[\"model_metrics_across_folds\"][\"sequence_level\"][\"mean_absolute_errors\"]\n",
    "    all_r2 = item[\"model_metrics_across_folds\"][\"sequence_level\"][\"r2_scores\"]\n",
    "    for (mse, mae, r2) in zip(all_mse, all_mae, all_r2):\n",
    "        tmp = {}\n",
    "        tmp['x'] = key\n",
    "        tmp['mse'] = mse\n",
    "        tmp['mae'] = mae\n",
    "        tmp['r2'] = r2\n",
    "        _df_rows.append(tmp)\n",
    "        \n",
    "plot_df = pd.DataFrame(_df_rows)\n",
    "\n",
    "sns.lineplot(\n",
    "    data=plot_df, x='x', y='mse', errorbar='sd', err_style=\"band\",\n",
    "    marker=\"o\", \n",
    "    label=f\"Patch size: {model_patch_size}\",\n",
    "    ax=ax,\n",
    ")\n",
    "\n",
    "plt.xticks(rotation=20)\n",
    "plt.xlabel(\"Checkpoints\", fontsize=20)\n",
    "plt.ylabel(f\"{feature_type} Probe MSE (heldout set)\", fontsize=20)\n",
    "plt.show()"
   ]
  },
  {
   "cell_type": "code",
   "execution_count": null,
   "id": "7e7628cc-feb9-4a5c-9f39-1362aeba2d92",
   "metadata": {},
   "outputs": [],
   "source": [
    "end_time = time.perf_counter()\n",
    "elapsed_time = end_time - start_time\n",
    "print(f\"Wall-clock time: {elapsed_time:.4f} seconds\")"
   ]
  }
 ],
 "metadata": {
  "kernelspec": {
   "display_name": "Python 3 (ipykernel)",
   "language": "python",
   "name": "python3"
  },
  "language_info": {
   "codemirror_mode": {
    "name": "ipython",
    "version": 3
   },
   "file_extension": ".py",
   "mimetype": "text/x-python",
   "name": "python",
   "nbconvert_exporter": "python",
   "pygments_lexer": "ipython3",
   "version": "3.9.18"
  }
 },
 "nbformat": 4,
 "nbformat_minor": 5
}
