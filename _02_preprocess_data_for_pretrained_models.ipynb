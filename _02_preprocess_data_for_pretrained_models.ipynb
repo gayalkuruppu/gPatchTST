{
 "cells": [
  {
   "cell_type": "code",
   "execution_count": null,
   "id": "bdabc460-63d5-4d3d-b878-5068d47e43ed",
   "metadata": {},
   "outputs": [],
   "source": []
  }
 ],
 "metadata": {
  "kernelspec": {
   "display_name": "Python 3 (ipykernel)",
   "language": "python",
   "name": "python3"
  },
  "language_info": {
   "codemirror_mode": {
    "name": "ipython",
    "version": 3
   },
   "file_extension": ".py",
   "mimetype": "text/x-python",
   "name": "python",
   "nbconvert_exporter": "python",
   "pygments_lexer": "ipython3",
   "version": "3.9.18"
  }
 },
 "nbformat": 4,
 "nbformat_minor": 5
}
