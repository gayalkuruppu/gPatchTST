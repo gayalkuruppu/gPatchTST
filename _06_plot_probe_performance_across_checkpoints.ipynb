{
 "cells": [
  {
   "cell_type": "code",
   "execution_count": 1,
   "id": "7fba2035-9990-427b-b335-3b1b03c3544d",
   "metadata": {},
   "outputs": [],
   "source": [
    "\n",
    "\n",
    "date = \"5_13_25\"\n",
    "feature_type = \"alpha_power\"\n",
    "\n",
    "\n",
    "model_patch_sizes = [\"10ms\", \"100ms\", \"1sec\"]\n",
    "files = [f\"{x}_{feature_type}_probes_for_all_checkpoints_{date}.pkl\" for x in model_patch_sizes]"
   ]
  },
  {
   "cell_type": "code",
   "execution_count": null,
   "id": "30c6d37c-bf22-4c0a-90aa-c55be7ccbf93",
   "metadata": {},
   "outputs": [],
   "source": [
    "import pickle\n",
    "import matplotlib.pyplot as plt\n",
    "import seaborn as sns; sns.set()\n",
    "sns.set_style(\"whitegrid\")\n",
    "\n",
    "plt.rcParams[\"figure.figsize\"] = (12, 6)\n",
    "plt.rcParams['xtick.labelsize'] = 14\n",
    "plt.rcParams['ytick.labelsize'] = 14\n",
    "plt.rcParams['legend.fontsize'] = 11\n",
    "plt.rcParams['font.size'] = 14\n",
    "\n",
    "fig, ax = plt.subplots()\n",
    "\n",
    "_df_rows = []\n",
    "\n",
    "for f, patch_size in zip(files, model_patch_sizes):\n",
    "    all_probes = pickle.load(open(f, 'rb'))    \n",
    "    for key, item in all_probes.items():\n",
    "        # # print(key, item.keys())\n",
    "        all_mse = item[\"model_metrics_across_folds\"][\"sequence_level\"][\"mean_squared_errors\"]\n",
    "        all_mae = item[\"model_metrics_across_folds\"][\"sequence_level\"][\"mean_absolute_errors\"]\n",
    "        all_r2 = item[\"model_metrics_across_folds\"][\"sequence_level\"][\"r2_scores\"]\n",
    "        for (mse, mae, r2) in zip(all_mse, all_mae, all_r2):\n",
    "            tmp = {}\n",
    "            tmp['x'] = key\n",
    "            tmp['mse'] = mse\n",
    "            tmp['mae'] = mae\n",
    "            tmp['r2'] = r2\n",
    "            tmp['patch_size'] = patch_size\n",
    "            _df_rows.append(tmp)\n",
    "            \n",
    "plot_df = pd.DataFrame(_df_rows)\n",
    "\n",
    "sns.lineplot(\n",
    "    data=plot_df, x='x', y='mse', errorbar='sd', err_style=\"band\",\n",
    "    hue=\"patch_size\",\n",
    "    marker=\"patch_size\", \n",
    "    # label=f\"Patch size: {model_patch_size}\",\n",
    "    ax=ax,\n",
    ")\n",
    "\n",
    "plt.xticks(rotation=20)\n",
    "plt.xlabel(\"Checkpoints\", fontsize=20)\n",
    "plt.ylabel(f\"{feature_type} Probe MSE (heldout set)\", fontsize=20)\n",
    "plt.show()"
   ]
  }
 ],
 "metadata": {
  "kernelspec": {
   "display_name": "Python 3 (ipykernel)",
   "language": "python",
   "name": "python3"
  },
  "language_info": {
   "codemirror_mode": {
    "name": "ipython",
    "version": 3
   },
   "file_extension": ".py",
   "mimetype": "text/x-python",
   "name": "python",
   "nbconvert_exporter": "python",
   "pygments_lexer": "ipython3",
   "version": "3.9.18"
  }
 },
 "nbformat": 4,
 "nbformat_minor": 5
}
