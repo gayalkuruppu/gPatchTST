{
 "cells": [
  {
   "cell_type": "code",
   "execution_count": 1,
   "id": "ffffe28b-7109-4266-852a-6d21cb474551",
   "metadata": {},
   "outputs": [],
   "source": [
    "import numpy as np\n",
    "import pandas as pd\n",
    "import mne\n",
    "import os"
   ]
  },
  {
   "cell_type": "code",
   "execution_count": 2,
   "id": "4141aded-9fc4-4d61-bebb-0946631b7d83",
   "metadata": {},
   "outputs": [],
   "source": [
    "root_path='/mnt/ssd_4tb_0/data/tuhab_preprocessed'\n",
    "csv_path='/mnt/ssd_4tb_0/data/tuhab_preprocessed/file_lengths_map.csv'"
   ]
  },
  {
   "cell_type": "code",
   "execution_count": 3,
   "id": "711fa887-5299-48cb-bedf-cfe0db0614d1",
   "metadata": {},
   "outputs": [
    {
     "data": {
      "text/plain": [
       "'aaaaalgi_s001_t001_preprocessed.npy'"
      ]
     },
     "execution_count": 3,
     "metadata": {},
     "output_type": "execute_result"
    }
   ],
   "source": [
    "ex_data_filename = os.listdir(root_path)[0]\n",
    "ex_data_filename"
   ]
  },
  {
   "cell_type": "code",
   "execution_count": 4,
   "id": "043cff61-d27e-4afa-adc2-36a8eb2902ea",
   "metadata": {},
   "outputs": [
    {
     "data": {
      "text/plain": [
       "(86300, 19)"
      ]
     },
     "execution_count": 4,
     "metadata": {},
     "output_type": "execute_result"
    }
   ],
   "source": [
    "ex_data = np.load(os.path.join(root_path, ex_data_filename))\n",
    "ex_data.shape"
   ]
  },
  {
   "cell_type": "code",
   "execution_count": 5,
   "id": "2a70920b-c62c-4315-acf6-b916482c878e",
   "metadata": {},
   "outputs": [],
   "source": [
    "# from feature_calc import "
   ]
  },
  {
   "cell_type": "code",
   "execution_count": 6,
   "id": "5c2d13a9-c61c-4174-9b5d-d319e825f18e",
   "metadata": {},
   "outputs": [
    {
     "name": "stdout",
     "output_type": "stream",
     "text": [
      "Creating RawArray with float64 data, n_channels=19, n_times=86300\n",
      "    Range : 0 ... 86299 =      0.000 ...   862.990 secs\n",
      "Ready.\n"
     ]
    }
   ],
   "source": [
    "import numpy as np\n",
    "import mne\n",
    "\n",
    "data = ex_data.T\n",
    "sfreq = 100.\n",
    "ch_names = [f'EEG {i+1}' for i in range(data.shape[0])]\n",
    "ch_types = ['eeg'] * len(ch_names)\n",
    "\n",
    "info = mne.create_info(ch_names=ch_names, sfreq=sfreq, ch_types=ch_types)\n",
    "raw = mne.io.RawArray(data, info)\n"
   ]
  },
  {
   "cell_type": "code",
   "execution_count": 7,
   "id": "c41d8274-54fa-4b6e-b7d6-c934fe7a3155",
   "metadata": {},
   "outputs": [
    {
     "name": "stdout",
     "output_type": "stream",
     "text": [
      "Not setting metadata\n",
      "86 matching events found\n",
      "No baseline correction applied\n",
      "0 projection items activated\n",
      "Using data from preloaded Raw for 86 events and 1000 original time points ...\n",
      "0 bad epochs dropped\n"
     ]
    }
   ],
   "source": [
    "epochs = mne.make_fixed_length_epochs(raw, duration=10.0, preload=True)"
   ]
  },
  {
   "cell_type": "code",
   "execution_count": 8,
   "id": "dafaa735-954d-48eb-beda-89b7b82f559b",
   "metadata": {},
   "outputs": [
    {
     "name": "stdout",
     "output_type": "stream",
     "text": [
      "    Using multitaper spectrum estimation with 7 DPSS windows\n"
     ]
    }
   ],
   "source": [
    "psds, freqs = epochs.compute_psd(fmin=0.5, fmax=35.0, method='multitaper').get_data(return_freqs=True)"
   ]
  },
  {
   "cell_type": "code",
   "execution_count": 9,
   "id": "06c48636-f1f4-46e3-9c30-fe261b0c2f7c",
   "metadata": {},
   "outputs": [],
   "source": [
    "psds = psds / np.sum(psds, axis=-1, keepdims=True)  # (n_epochs, n_channels, n_freqs)"
   ]
  },
  {
   "cell_type": "code",
   "execution_count": 10,
   "id": "527a0658-56ed-40c0-a5eb-3eba1d51312a",
   "metadata": {},
   "outputs": [],
   "source": [
    "# alpha_idx = np.logical_and(freqs >= 0.5, freqs <= 4)\n",
    "alpha_idx = np.logical_and(freqs >= 8, freqs <= 13)\n",
    "alpha_power = psds[:, :, alpha_idx].mean(axis=-1)  # (n_epochs, n_channels)"
   ]
  },
  {
   "cell_type": "code",
   "execution_count": 12,
   "id": "2588c039-ae93-4023-87a8-48ddae0c4994",
   "metadata": {},
   "outputs": [
    {
     "data": {
      "text/plain": [
       "array([0.00022829, 0.00020346, 0.00023693, 0.00021627, 0.00044502,\n",
       "       0.00026892, 0.00018058, 0.00015   , 0.00025559, 0.00083293,\n",
       "       0.00026497, 0.00028399, 0.00026672, 0.00019304, 0.00059648,\n",
       "       0.00040383, 0.00024965, 0.00037948, 0.0002121 ])"
      ]
     },
     "execution_count": 12,
     "metadata": {},
     "output_type": "execute_result"
    }
   ],
   "source": [
    "alpha_power[0]"
   ]
  },
  {
   "cell_type": "code",
   "execution_count": 4,
   "id": "5b885674-edb8-49bc-b55d-991ad65c3969",
   "metadata": {},
   "outputs": [
    {
     "data": {
      "text/plain": [
       "array([[2.28292194e-04, 2.03459228e-04, 2.36927296e-04, ...,\n",
       "        2.49645101e-04, 3.79479783e-04, 2.12098262e-04],\n",
       "       [1.23762144e-04, 9.33982309e-05, 4.03086678e-04, ...,\n",
       "        4.90258805e-04, 2.14826684e-04, 2.49044555e-04],\n",
       "       [9.63253708e-05, 4.05908626e-05, 1.16792038e-04, ...,\n",
       "        2.83020796e-04, 1.87147946e-04, 1.63213974e-04],\n",
       "       ...,\n",
       "       [1.08510424e-04, 9.47245801e-05, 2.17212085e-04, ...,\n",
       "        2.27028676e-04, 1.49195365e-04, 1.23036343e-04],\n",
       "       [1.32886360e-04, 1.52083351e-04, 3.61669429e-04, ...,\n",
       "        3.06789308e-04, 3.39098744e-04, 1.85853962e-04],\n",
       "       [8.99074580e-05, 1.39783742e-04, 4.22685301e-04, ...,\n",
       "        3.25900710e-04, 3.39830269e-04, 2.44034665e-04]])"
      ]
     },
     "execution_count": 4,
     "metadata": {},
     "output_type": "execute_result"
    }
   ],
   "source": [
    "import pickle\n",
    "\n",
    "dict_path = 'preprocessing/outputs/alpha_power_tuab_dict.pkl'\n",
    "\n",
    "with open(dict_path, 'rb') as f:\n",
    "    alpha_dict = pickle.load(f)\n",
    "\n",
    "alpha_dict['aaaaalgi_s001_t001']"
   ]
  },
  {
   "cell_type": "code",
   "execution_count": null,
   "id": "4cf9113e-e7be-400e-86c5-18de83317b4d",
   "metadata": {},
   "outputs": [],
   "source": []
  }
 ],
 "metadata": {
  "kernelspec": {
   "display_name": "Python 3 (ipykernel)",
   "language": "python",
   "name": "python3"
  },
  "language_info": {
   "codemirror_mode": {
    "name": "ipython",
    "version": 3
   },
   "file_extension": ".py",
   "mimetype": "text/x-python",
   "name": "python",
   "nbconvert_exporter": "python",
   "pygments_lexer": "ipython3",
   "version": "3.8.5"
  }
 },
 "nbformat": 4,
 "nbformat_minor": 5
}
